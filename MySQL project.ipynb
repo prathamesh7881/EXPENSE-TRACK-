{
 "cells": [
  {
   "cell_type": "code",
   "execution_count": null,
   "id": "3e2a5d31-b79a-4248-9daf-412540f2a085",
   "metadata": {},
   "outputs": [],
   "source": [
    "!pip install mysql.connector"
   ]
  },
  {
   "cell_type": "code",
   "execution_count": 4,
   "id": "e3d70731-22a5-468c-9141-67344592c06c",
   "metadata": {},
   "outputs": [
    {
     "name": "stdout",
     "output_type": "stream",
     "text": [
      "\n",
      "----Select one of the following----\n",
      "1. Add new expenses\n",
      "2. Delect expenses\n",
      "3. View all expenses\n",
      "4. get Monthly summary\n",
      "5. Exit\n"
     ]
    },
    {
     "name": "stdin",
     "output_type": "stream",
     "text": [
      " 5\n"
     ]
    },
    {
     "name": "stdout",
     "output_type": "stream",
     "text": [
      "Thank you!!\n"
     ]
    }
   ],
   "source": [
    "import mysql.connector\n",
    "from datetime import datetime\n",
    "#establish connection with database\n",
    "def db_conn():\n",
    "    return mysql.connector.connect(\n",
    "        host = 'localhost',\n",
    "        user = 'root',\n",
    "        password = 'abc1234',\n",
    "        database = 'myexpenses')\n",
    "\n",
    "def addExpense():\n",
    "    category = input(\"Enter Category like medical,hotel,fees...\")\n",
    "    amount = float(input(\"Enter amount spent\"))\n",
    "    description = input(\"Enter description [Optional]\")\n",
    "    date_str = input(\"Enter date in format yyyy-mm-dd or leave blank if today's date\")\n",
    "\n",
    "    date = date_str if date_str else datetime.today().strftime('%Y-%m-%d')\n",
    "    conn = db_conn()\n",
    "    cursor = conn.cursor()\n",
    "    cursor.execute(\"Insert into expense (category,amount,description,date) value (%s,%s,%s,%s)\",(category,amount,description,date))\n",
    "    conn.commit()\n",
    "    print(\"Expense added successfully\")\n",
    "    cursor.close()\n",
    "    conn.close()\n",
    "\n",
    "\n",
    "def deleteExpense():\n",
    "    expenseid = int(input(\"Enter ID of expense to be deleted\"))\n",
    "    conn = db_conn()\n",
    "    cursor = conn.cursor()\n",
    "    cursor.execute('delete from expense where id = %s',(expenseid,))\n",
    "    if cursor.rowcount > 0:\n",
    "        print(\"Deleted Successfully\")\n",
    "    else:\n",
    "        print(\"Record not found\")\n",
    "    conn.commit()\n",
    "    cursor.close()\n",
    "    conn.close()\n",
    "\n",
    "def viewAll():\n",
    "    conn = db_conn()\n",
    "    cursor = conn.cursor()\n",
    "    cursor.execute('select  * from expense')\n",
    "    records = cursor.fetchall()\n",
    "    for row in records:\n",
    "        print(f'{row[0]} | {row[1]} | {row[2]} | {row[3]} | {row[4]}')\n",
    "    cursor.close()\n",
    "    conn.close()\n",
    "def summary():\n",
    "    month = int(input(\"enter month - mm\"))\n",
    "    year = int(input(\"enter year - yyyy\"))\n",
    "    conn = db_conn()\n",
    "    cursor = conn.cursor()\n",
    "    cursor.execute('''select category, sum(amount) from expense \n",
    "   where month(date) = %s and year(date) = %s\n",
    "    group by category \n",
    "    ''',(month,year))\n",
    "    records = cursor.fechall()\n",
    "    for row in records:\n",
    "        print(f'{row[0]} | {row[1]}')\n",
    "        cursor.close()\n",
    "        conn.close()\n",
    "     \n",
    "def main():\n",
    "    #create infinite loop which display a menu\n",
    "    while True:\n",
    "        print(\"\\n----Select one of the following----\")\n",
    "        print(\"1. Add new expenses\")\n",
    "        print(\"2. Delect expenses\")\n",
    "        print(\"3. View all expenses\")\n",
    "        print(\"4. get Monthly summary\")\n",
    "        print(\"5. Exit\")\n",
    "        choice = input()\n",
    "        if choice =='1':\n",
    "            addExpense()\n",
    "        elif choice == '2':\n",
    "             deleteExpense()\n",
    "        elif choice == '3':\n",
    "            viewAll()\n",
    "        elif choice == '4':\n",
    "            summary()\n",
    "        elif choice == '5':\n",
    "            print(\"Thank you!!\")\n",
    "            break;\n",
    "        else:\n",
    "            print(\"Not a correct input! Please try again\")\n",
    "if __name__ == \"__main__\":\n",
    "    main()"
   ]
  },
  {
   "cell_type": "code",
   "execution_count": null,
   "id": "4d55c06a-4e67-4446-b6eb-c907117b176e",
   "metadata": {},
   "outputs": [],
   "source": []
  }
 ],
 "metadata": {
  "kernelspec": {
   "display_name": "Python 3 (ipykernel)",
   "language": "python",
   "name": "python3"
  },
  "language_info": {
   "codemirror_mode": {
    "name": "ipython",
    "version": 3
   },
   "file_extension": ".py",
   "mimetype": "text/x-python",
   "name": "python",
   "nbconvert_exporter": "python",
   "pygments_lexer": "ipython3",
   "version": "3.12.7"
  }
 },
 "nbformat": 4,
 "nbformat_minor": 5
}
